{
 "cells": [
  {
   "cell_type": "markdown",
   "metadata": {},
   "source": [
    "# FINM3422 Equity Research Assignment\n",
    "### Task:\n",
    "You are an equity research analyst and you have been tasked with developing and implementing a program that produces an equity research report as a pdf file. \n",
    "\n",
    "One team member will be the leader, who will fork the repo and invite team members as collaborators to the forked repo, with each team member creating a different enhancement to the program which will become included in the research report pdf.\n",
    "### Features and Marking\n",
    "The program should produce an attractive and well-formatted report. The features that your program can have, along with the marks assigned for each feature are:\n",
    "- Create a pdf file of the final research report **[10%]**\n",
    "- Key ratios and financial metrics informed through the use of an API, and computed in functions that have been created, saved into, and imported from a .py file **[20%]**\n",
    "- An attractively rendered recommendation **[10%]**\n",
    "- Include commentary taken imported from a .txt file **[10%]**\n",
    "- An extract from a DCF model built in Excel **[10%]**\n",
    "- A chart showing price history for the stock historical price targets of the research (taken from a CSV file) and the history of the ASX200 **[10%]**\n",
    "- A relevant image or table scraped from a website for the company **[10%]**\n",
    "- The ability for the user of the software to select the ASX code of the company for which the research is being generated and have the pdf automatically reflect the company choice **[20%]**\n",
    "  - This will require planning around the structure of the code folders in order to allow imports of different files depending on the selected company\n",
    "\n",
    "Marks will be awarded based on the quality of implementation of each of these features. \n",
    "### Individual Marks\n",
    "Individual marks will be modified based on the **quality** and **quantity** of commits made by each team member to the forked repo.\n",
    "### Submission Details\n",
    "The assignment will be due on Wednesday, 30<sup>th</sup> April at 4pm.\n",
    "\n",
    "Submission will be by "
   ]
  }
 ],
 "metadata": {
  "language_info": {
   "name": "python"
  }
 },
 "nbformat": 4,
 "nbformat_minor": 2
}
