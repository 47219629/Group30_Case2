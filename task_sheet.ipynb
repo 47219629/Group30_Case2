{
 "cells": [
  {
   "cell_type": "markdown",
   "metadata": {},
   "source": [
    "# Equity Research Task\n",
    "### Task:\n",
    "You are an equity research analyst and you have been tasked with developing and implementing a program that produces an equity research report as a pdf file. \n",
    "\n",
    "One team member will be the leader, who will fork the repo and invite team members as collaborators to the forked repo, with each team member creating a different enhancement to the program which will become included in the research report pdf.\n",
    "### Features\n",
    "The program should produce an attractive and well-formatted report. The features that your program can have, along with the marks assigned for each feature are:\n",
    "- Create a pdf file of the final research report\n",
    "- Key ratios and financial metrics informed through the use of an API, and computed in functions that have been created, saved into, and imported from a .py file\n",
    "- An attractively rendered recommendation\n",
    "- Include commentary taken imported from a .txt file\n",
    "- An extract from a DCF model built in Excel\n",
    "- A chart showing price history for the stock historical price targets of the research (taken from a CSV file) and the history of the ASX200\n",
    "- A relevant image or table scraped from a website for the company\n",
    "- The ability for the user of the software to select the ASX code of the company for which the research is being generated and have the pdf automatically reflect the company choice\n",
    "  - This will require planning around the structure of the code folders in order to allow imports of different files depending on the selected company"
   ]
  }
 ],
 "metadata": {
  "language_info": {
   "name": "python"
  }
 },
 "nbformat": 4,
 "nbformat_minor": 2
}
