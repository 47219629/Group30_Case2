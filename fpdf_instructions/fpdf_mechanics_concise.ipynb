{
 "cells": [
  {
   "cell_type": "markdown",
   "metadata": {},
   "source": [
    "# FPDF Mechanics: The Progressive Building Process\n",
    "\n",
    "This notebook explains how FPDF progressively builds PDF documents in Python using a cursor-based approach."
   ]
  },
  {
   "cell_type": "code",
   "execution_count": null,
   "metadata": {},
   "outputs": [],
   "source": [
    "# Import the FPDF library\n",
    "from fpdf import FPDF"
   ]
  },
  {
   "cell_type": "markdown",
   "metadata": {},
   "source": [
    "## 1. The Sequential Building Process\n",
    "\n",
    "FPDF builds PDFs sequentially, similar to a typewriter. The library maintains an internal cursor position (X,Y coordinates) that moves as content is added.\n",
    "\n",
    "- The origin (0,0) is at the top-left corner\n",
    "- X increases from left to right\n",
    "- Y increases from top to bottom"
   ]
  },
  {
   "cell_type": "code",
   "execution_count": null,
   "metadata": {},
   "outputs": [],
   "source": [
    "# Demonstrate cursor movement\n",
    "pdf = FPDF()\n",
    "pdf.add_page()\n",
    "pdf.set_font('Arial', '', 12)\n",
    "\n",
    "# Print initial cursor position\n",
    "print(f\"Initial position - X: {pdf.get_x()}, Y: {pdf.get_y()}\")\n",
    "\n",
    "# Add content and track position changes\n",
    "pdf.cell(40, 10, 'First cell')\n",
    "print(f\"After first cell - X: {pdf.get_x()}, Y: {pdf.get_y()}\")\n",
    "\n",
    "# Add cell that moves to next line (ln=1)\n",
    "pdf.cell(60, 10, 'Second cell', 0, 1)\n",
    "print(f\"After second cell - X: {pdf.get_x()}, Y: {pdf.get_y()}\")\n",
    "\n",
    "pdf.output('cursor_movement.pdf')"
   ]
  },
  {
   "cell_type": "markdown",
   "metadata": {},
   "source": [
    "## 2. Writing Methods in FPDF\n",
    "\n",
    "FPDF provides several methods to add content. Each moves the cursor differently:"
   ]
  },
  {
   "cell_type": "markdown",
   "metadata": {},
   "source": [
    "### 2.1 The `cell()` Method\n",
    "\n",
    "Creates a rectangular cell with text. The `ln` parameter controls cursor movement:\n",
    "- `ln=0`: Cursor moves right (default)\n",
    "- `ln=1`: Cursor moves to beginning of next line\n",
    "- `ln=2`: Cursor moves below the cell"
   ]
  },
  {
   "cell_type": "code",
   "execution_count": null,
   "metadata": {},
   "outputs": [],
   "source": [
    "pdf = FPDF()\n",
    "pdf.add_page()\n",
    "pdf.set_font('Arial', '', 12)\n",
    "\n",
    "# With ln=0: Cursor moves right\n",
    "pdf.cell(40, 10, 'Cell 1', 1, 0)\n",
    "pdf.cell(40, 10, 'Cell 2', 1, 0)\n",
    "\n",
    "# With ln=1: Cursor moves to beginning of next line\n",
    "pdf.ln()\n",
    "pdf.cell(40, 10, 'Cell 3', 1, 1)  # Note ln=1\n",
    "pdf.cell(40, 10, 'Cell 4', 1, 0)  # This starts on a new line\n",
    "\n",
    "pdf.output('cell_cursor_movement.pdf')"
   ]
  },
  {
   "cell_type": "markdown",
   "metadata": {},
   "source": [
    "### 2.2 The `multi_cell()` Method\n",
    "\n",
    "Creates text that automatically wraps and can span multiple lines. Always moves to the next line after execution."
   ]
  },
  {
   "cell_type": "code",
   "execution_count": null,
   "metadata": {},
   "outputs": [],
   "source": [
    "pdf = FPDF()\n",
    "pdf.add_page()\n",
    "pdf.set_font('Arial', '', 12)\n",
    "\n",
    "# Add a multi_cell with text that will wrap\n",
    "pdf.multi_cell(80, 10, 'This text will automatically wrap when it reaches the end of the cell width. ' * 3, 1)\n",
    "\n",
    "# After multi_cell, X position is back at the left margin\n",
    "pdf.multi_cell(80, 10, 'Another paragraph with auto-wrapping text.', 1)\n",
    "\n",
    "pdf.output('multi_cell_example.pdf')"
   ]
  },
  {
   "cell_type": "markdown",
   "metadata": {},
   "source": [
    "### 2.3 The `write()` Method\n",
    "\n",
    "Used for flowing text that continues on the same line. Allows for inline formatting changes."
   ]
  },
  {
   "cell_type": "code",
   "execution_count": null,
   "metadata": {},
   "outputs": [],
   "source": [
    "pdf = FPDF()\n",
    "pdf.add_page()\n",
    "pdf.set_font('Arial', '', 12)\n",
    "\n",
    "# Write method allows continued writing on the same line\n",
    "pdf.write(8, 'This text is written with the write method. ')\n",
    "\n",
    "# Change font within the same line\n",
    "pdf.set_font('Arial', 'B', 12)\n",
    "pdf.write(8, 'This part is bold. ')\n",
    "\n",
    "# Change color within the same line\n",
    "pdf.set_text_color(255, 0, 0)\n",
    "pdf.write(8, 'This part is red.')\n",
    "\n",
    "pdf.output('write_method_example.pdf')"
   ]
  },
  {
   "cell_type": "markdown",
   "metadata": {},
   "source": [
    "### 2.4 The `text()` Method\n",
    "\n",
    "Places text at absolute position. Does NOT move the cursor after printing."
   ]
  },
  {
   "cell_type": "code",
   "execution_count": null,
   "metadata": {},
   "outputs": [],
   "source": [
    "pdf = FPDF()\n",
    "pdf.add_page()\n",
    "pdf.set_font('Arial', '', 12)\n",
    "\n",
    "# Text at absolute position doesn't move the cursor\n",
    "pdf.text(10, 30, 'This text is at position (10, 30)')\n",
    "pdf.text(100, 50, 'This text is at position (100, 50)')\n",
    "\n",
    "# The cursor is still at its original position\n",
    "pdf.cell(40, 10, 'The cursor is still here', 1)\n",
    "\n",
    "pdf.output('text_method_example.pdf')"
   ]
  },
  {
   "cell_type": "markdown",
   "metadata": {},
   "source": [
    "## 3. Managing Formatting\n",
    "\n",
    "Formatting attributes (font, color, etc.) are set **before** adding content and remain active until changed."
   ]
  },
  {
   "cell_type": "code",
   "execution_count": null,
   "metadata": {},
   "outputs": [],
   "source": [
    "pdf = FPDF()\n",
    "pdf.add_page()\n",
    "\n",
    "# Set initial font\n",
    "pdf.set_font('Arial', '', 12)  # Regular Arial, 12pt\n",
    "pdf.cell(0, 10, 'This text uses the default font', 0, 1)\n",
    "\n",
    "# Change to bold\n",
    "pdf.set_font('Arial', 'B', 12)  # Bold Arial, 12pt\n",
    "pdf.cell(0, 10, 'This text is bold', 0, 1)\n",
    "\n",
    "# Change font family and size\n",
    "pdf.set_font('Times', '', 14)  # Regular Times, 14pt\n",
    "pdf.cell(0, 10, 'This text uses Times font at 14pt', 0, 1)\n",
    "\n",
    "# Change text color to red\n",
    "pdf.set_text_color(255, 0, 0)  # RGB values\n",
    "pdf.cell(0, 10, 'This text is red', 0, 1)\n",
    "\n",
    "# Reset to black\n",
    "pdf.set_text_color(0)\n",
    "pdf.cell(0, 10, 'Back to black text', 0, 1)\n",
    "\n",
    "pdf.output('formatting_example.pdf')"
   ]
  },
  {
   "cell_type": "markdown",
   "metadata": {},
   "source": [
    "## 4. Managing Spacing with `ln()`\n",
    "\n",
    "The `ln()` method creates vertical space or moves to the next line."
   ]
  },
  {
   "cell_type": "code",
   "execution_count": null,
   "metadata": {},
   "outputs": [],
   "source": [
    "pdf = FPDF()\n",
    "pdf.add_page()\n",
    "pdf.set_font('Arial', '', 12)\n",
    "\n",
    "# Add a line of text\n",
    "pdf.cell(0, 10, 'First line of text', 0, 1)\n",
    "\n",
    "# Add another line immediately after\n",
    "pdf.cell(0, 10, 'Second line - right after the first', 0, 1)\n",
    "\n",
    "# Use ln() to add space\n",
    "pdf.ln(10)  # 10mm of vertical space\n",
    "\n",
    "# Add another line after the space\n",
    "pdf.cell(0, 10, 'Third line - after 10mm vertical space', 0, 1)\n",
    "\n",
    "# Using ln() without parameters adds the height of the current font\n",
    "pdf.ln()  # Adds current font height\n",
    "pdf.cell(0, 10, 'Fourth line - after default line break', 0, 1)\n",
    "\n",
    "pdf.output('line_spacing_example.pdf')"
   ]
  },
  {
   "cell_type": "markdown",
   "metadata": {},
   "source": [
    "## 5. Complete Example: Progressive Building\n",
    "\n",
    "This example demonstrates how FPDF progressively builds a document by changing formats and managing cursor position."
   ]
  },
  {
   "cell_type": "code",
   "execution_count": null,
   "metadata": {},
   "outputs": [],
   "source": [
    "pdf = FPDF()\n",
    "pdf.add_page()\n",
    "\n",
    "# --- Title section ---\n",
    "pdf.set_font('Arial', 'B', 16)\n",
    "pdf.cell(0, 10, 'FPDF Progressive Building Example', 0, 1, 'C')\n",
    "pdf.ln(5)\n",
    "\n",
    "# --- Mixed formatting in a paragraph ---\n",
    "pdf.set_font('Arial', '', 12)\n",
    "pdf.write(6, 'This document demonstrates how FPDF ')\n",
    "pdf.set_font('Arial', 'B', 12)\n",
    "pdf.write(6, 'progressively builds ')\n",
    "pdf.set_font('Arial', '', 12)\n",
    "pdf.write(6, 'a PDF by adding content sequentially.')\n",
    "pdf.ln(10)\n",
    "\n",
    "# --- Bullet points ---\n",
    "pdf.set_font('Arial', 'B', 12)\n",
    "pdf.cell(0, 10, 'Key Concepts:', 0, 1)\n",
    "pdf.set_font('Arial', '', 12)\n",
    "\n",
    "# Manually create bullet points\n",
    "points = [\n",
    "    'The cursor position determines where content is placed',\n",
    "    'Font and color settings affect all subsequent content',\n",
    "    'Different writing methods move the cursor differently',\n",
    "    'The ln() method creates vertical spacing'\n",
    "]\n",
    "\n",
    "for point in points:\n",
    "    pdf.set_x(20)  # Indent\n",
    "    pdf.cell(5, 10, '•', 0, 0)  # Bullet character\n",
    "    pdf.cell(0, 10, point, 0, 1)  # Point text\n",
    "\n",
    "pdf.ln(5)\n",
    "\n",
    "# --- Simple table ---\n",
    "pdf.set_font('Arial', 'B', 12)\n",
    "pdf.cell(0, 10, 'FPDF Writing Methods:', 0, 1)\n",
    "\n",
    "# Table header with fill color\n",
    "pdf.set_fill_color(200, 220, 255)\n",
    "pdf.cell(60, 10, 'Method', 1, 0, 'C', 1)\n",
    "pdf.cell(130, 10, 'Description', 1, 1, 'C', 1)\n",
    "\n",
    "# Table data row\n",
    "pdf.set_font('Arial', 'B', 10)\n",
    "pdf.cell(60, 10, 'cell()', 1, 0)\n",
    "pdf.set_font('Arial', '', 10)\n",
    "pdf.multi_cell(130, 10, 'Creates a rectangular cell with optional text and borders. Can control cursor movement.', 1)\n",
    "\n",
    "pdf.output('fpdf_complete_example.pdf')"
   ]
  },
  {
   "cell_type": "markdown",
   "metadata": {},
   "source": [
    "## 6. Common Issues and Solutions\n",
    "\n",
    "Understanding these mechanics helps avoid common problems:\n",
    "\n",
    "1. **Content Overlapping**: Happens when the cursor doesn't move as expected. Use the `ln` parameter in `cell()` calls or `ln()` to move the cursor down.\n",
    "\n",
    "2. **Unexpected Formatting**: Occurs because formatting settings remain active until changed. Always reset fonts and colors when switching styles.\n",
    "\n",
    "3. **Unexpected Positioning**: Use `set_x()`, `set_y()`, or `set_xy()` to explicitly position the cursor when needed.\n",
    "\n",
    "4. **Text Not Wrapping**: The `cell()` method doesn't wrap text. Use `multi_cell()` for automatic text wrapping.\n",
    "\n",
    "5. **Font Changes Not Applied**: Ensure you call `set_font()` before adding text, not after.\n",
    "\n",
    "## Summary\n",
    "\n",
    "FPDF builds PDFs progressively in these key steps:\n",
    "\n",
    "1. **Set formatting** first (font, color, etc.)\n",
    "2. **Add content** using cell(), multi_cell(), write(), or text()\n",
    "3. **Manage spacing** with ln() or by controlling cursor movement\n",
    "4. Repeat these steps for each element\n",
    "\n",
    "This sequential, cursor-based approach lets you create complex, formatted documents with careful control over layout and appearance."
   ]
  }
 ],
 "metadata": {
  "kernelspec": {
   "display_name": "Python 3",
   "language": "python",
   "name": "python3"
  },
  "language_info": {
   "codemirror_mode": {
    "name": "ipython",
    "version": 3
   },
   "file_extension": ".py",
   "mimetype": "text/x-python",
   "name": "python",
   "nbconvert_exporter": "python",
   "pygments_lexer": "ipython3",
   "version": "3.8.5"
  }
 },
 "nbformat": 4,
 "nbformat_minor": 4
}
