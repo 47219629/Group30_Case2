{
 "cells": [
  {
   "cell_type": "markdown",
   "metadata": {
    "slideshow": {
     "slide_type": "slide"
    }
   },
   "source": [
    "# Equity Research"
   ]
  },
  {
   "cell_type": "markdown",
   "metadata": {
    "slideshow": {
     "slide_type": "slide"
    }
   },
   "source": [
    "An equity research analyst is a professional who evaluates public companies and provides recommendations on whether to buy, sell, or hold their stocks."
   ]
  },
  {
   "cell_type": "markdown",
   "metadata": {
    "slideshow": {
     "slide_type": "fragment"
    }
   },
   "source": [
    "**Buy-Side Analysts** work for institutional investors such as hedge funds ...\n",
    "- [ ] Please complete a bit more of a blurb here"
   ]
  },
  {
   "cell_type": "markdown",
   "metadata": {
    "slideshow": {
     "slide_type": "fragment"
    }
   },
   "source": [
    "**Sell-side Analysts** work for brokerage firms and investment banks ...\n",
    "- [ ] Please complete a bit more of a blurb here"
   ]
  },
  {
   "cell_type": "markdown",
   "metadata": {
    "slideshow": {
     "slide_type": "slide"
    }
   },
   "source": [
    "Today we are going to put ourselves in the shoes of a **Sell-Side** Equity Analyst. \n",
    "\n",
    "We are going to look at some of the tools we can use in Python to assist in building an equity research report for publication.\n",
    "We are not so much focussed on the process of formulating the analysis such as building a DCF.\n",
    "Rather we want to learn how to use the tools that can automate some of the work we may do as an analyst."
   ]
  },
  {
   "cell_type": "markdown",
   "metadata": {
    "slideshow": {
     "slide_type": "fragment"
    }
   },
   "source": [
    "Step 1 will be to create a few handy functions"
   ]
  },
  {
   "cell_type": "markdown",
   "metadata": {
    "slideshow": {
     "slide_type": "fragment"
    }
   },
   "source": [
    "Step 2 will be to pull in some live data from an application programming interface (API)"
   ]
  },
  {
   "cell_type": "markdown",
   "metadata": {
    "slideshow": {
     "slide_type": "fragment"
    }
   },
   "source": [
    "- [ ] Please describe in successive slide fragments all the things we are going to do in the lecture"
   ]
  },
  {
   "cell_type": "markdown",
   "metadata": {
    "slideshow": {
     "slide_type": "fragment"
    }
   },
   "source": [
    "- [ ] Please describe in successive slide fragments all the things we are going to do in the lecture"
   ]
  },
  {
   "cell_type": "markdown",
   "metadata": {
    "slideshow": {
     "slide_type": "slide"
    }
   },
   "source": [
    "# Create some handy functions\n",
    "Here we are going to create some functions that we can call to do some calculations"
   ]
  },
  {
   "cell_type": "code",
   "execution_count": null,
   "metadata": {
    "slideshow": {
     "slide_type": "subslide"
    }
   },
   "outputs": [],
   "source": [
    "# Function to calculate the P/E ratio of a stock\n",
    "def calculate_pe_ratio(price, earnings):\n",
    "    return price / earnings\n",
    "\n",
    "# Function to calculate the dividend yield of a stock\n",
    "def calculate_dividend_yield(dividend, price):\n",
    "    return dividend / price\n",
    "\n",
    "# Tutor to add more functions here\n",
    "# put each function in a separate cell so that each can be brought up individually in the slideshow"
   ]
  },
  {
   "cell_type": "markdown",
   "metadata": {},
   "source": [
    "# Application Programming Interfaces (APIs)"
   ]
  },
  {
   "cell_type": "markdown",
   "metadata": {},
   "source": [
    "- [ ] Convert my slides from last year into Jupyter Slide Show cells (you may need to create .jpg files for the diagrams and render them in the slideshow)"
   ]
  },
  {
   "cell_type": "code",
   "execution_count": null,
   "metadata": {},
   "outputs": [],
   "source": [
    "# Use the joke of the day API and the weather API examples from last years slides to show how to use APIs in Python \n",
    "# these are contained in API_examples.ipynb"
   ]
  },
  {
   "cell_type": "markdown",
   "metadata": {},
   "source": [
    "- [ ] describe the yFinance library as accessing the Yahoo finance API to get current data for a stock"
   ]
  },
  {
   "cell_type": "code",
   "execution_count": null,
   "metadata": {},
   "outputs": [],
   "source": [
    "# pull some data on an australian stock from yfinance\n",
    "# and feed this data into the functions above to calculate some ratios etc\n"
   ]
  },
  {
   "cell_type": "code",
   "execution_count": null,
   "metadata": {},
   "outputs": [],
   "source": [
    "# use the read_html() function from pandas to scrape some data from a website that is relevant to the stock\n",
    "# again, you can refer to an example from API_examples.ipynb\n"
   ]
  },
  {
   "cell_type": "code",
   "execution_count": null,
   "metadata": {},
   "outputs": [],
   "source": [
    "# use ipywidgets to create an interactive widget that allows the user to input the stock code \n",
    "# this will then pull the data from yfinance and run the functions above to calculate the ratios"
   ]
  },
  {
   "cell_type": "code",
   "execution_count": 8,
   "metadata": {},
   "outputs": [
    {
     "data": {
      "application/vnd.jupyter.widget-view+json": {
       "model_id": "68953f42ef5d41098fa6e2f8fd512369",
       "version_major": 2,
       "version_minor": 0
      },
      "text/plain": [
       "Text(value='', description='Stock code:', placeholder='Stock code')"
      ]
     },
     "metadata": {},
     "output_type": "display_data"
    },
    {
     "data": {
      "application/vnd.jupyter.widget-view+json": {
       "model_id": "d6281eff192b45d7a939a0f08daccb2d",
       "version_major": 2,
       "version_minor": 0
      },
      "text/plain": [
       "Button(description='Submit', icon='check', style=ButtonStyle(), tooltip='Click me')"
      ]
     },
     "metadata": {},
     "output_type": "display_data"
    }
   ],
   "source": [
    "import ipywidgets as widgets\n",
    "from IPython.display import display\n",
    "\n",
    "# Create a text input widget\n",
    "stock_code_input = widgets.Text(\n",
    "    value='',\n",
    "    placeholder='Stock code',\n",
    "    description='Stock code:',\n",
    "    disabled=False\n",
    ")\n",
    "\n",
    "# Create a button widget\n",
    "submit_button = widgets.Button(\n",
    "    description='Submit',\n",
    "    disabled=False,\n",
    "    button_style='', # 'success', 'info', 'warning', 'danger' or ''\n",
    "    tooltip='Click me',\n",
    "    icon='check'\n",
    ")\n",
    "\n",
    "# Define the function to handle button click\n",
    "def on_button_click(b):\n",
    "    stock_code = stock_code_input.value\n",
    "    print(f'Entered Stock Code: {stock_code}')\n",
    "\n",
    "# Attach the function to the button click event\n",
    "submit_button.on_click(on_button_click)\n",
    "\n",
    "# Display the widgets\n",
    "display(stock_code_input, submit_button)"
   ]
  },
  {
   "cell_type": "code",
   "execution_count": 12,
   "metadata": {},
   "outputs": [
    {
     "name": "stdout",
     "output_type": "stream",
     "text": [
      "User entered stock code: BHP\n"
     ]
    }
   ],
   "source": [
    "# print the user input\n",
    "print(f'User entered stock code: {stock_code_input.value}')"
   ]
  }
 ],
 "metadata": {
  "kernelspec": {
   "display_name": "Python 3",
   "language": "python",
   "name": "python3"
  },
  "language_info": {
   "codemirror_mode": {
    "name": "ipython",
    "version": 3
   },
   "file_extension": ".py",
   "mimetype": "text/x-python",
   "name": "python",
   "nbconvert_exporter": "python",
   "pygments_lexer": "ipython3",
   "version": "3.12.1"
  }
 },
 "nbformat": 4,
 "nbformat_minor": 2
}
