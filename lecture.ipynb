{
 "cells": [
  {
   "cell_type": "markdown",
   "metadata": {
    "slideshow": {
     "slide_type": "slide"
    }
   },
   "source": [
    "# Equity Research"
   ]
  },
  {
   "cell_type": "markdown",
   "metadata": {
    "slideshow": {
     "slide_type": "slide"
    }
   },
   "source": [
    "An equity research analyst is a professional who evaluates public companies and provides recommendations on whether to buy, sell, or hold their stocks."
   ]
  },
  {
   "cell_type": "markdown",
   "metadata": {
    "slideshow": {
     "slide_type": "fragment"
    }
   },
   "source": [
    "**Buy-Side Analysts** work for institutional investors such as hedge funds and asset managers. Their primary objective is to identify profitable investment opportunities that align with their firm’s strategy. They conduct in-depth research, build financial models, and analyze market trends to support portfolio managers in making buy, hold, or sell decisions. Unlike sell-side analysts, their research is proprietary, used internally to maximize returns rather than being published for external clients."
   ]
  },
  {
   "cell_type": "markdown",
   "metadata": {
    "slideshow": {
     "slide_type": "fragment"
    }
   },
   "source": [
    "**Sell-side Analysts** work for brokerage firms and investment banks, where they provide research reports, stock recommendations, and earnings forecasts to institutional and retail investors. Their role involves analyzing companies, forecasting earnings, and publishing reports with investment ratings (e.g., buy, hold, or sell). These insights help institutional and retail investors make informed decisions and also support their firm’s trading desks and investment banking activities. Unlike buy-side analysts, sell-side analysts focus on generating market insights and often engage with clients and media to discuss their findings."
   ]
  },
  {
   "cell_type": "markdown",
   "metadata": {
    "slideshow": {
     "slide_type": "slide"
    }
   },
   "source": [
    "Today we are going to put ourselves in the shoes of a **Sell-Side** Equity Analyst. \n",
    "\n",
    "We are going to look at some of the tools we can use in Python to assist in building an equity research report for publication.\n",
    "We are not so much focussed on the process of formulating the analysis such as building a DCF.\n",
    "Rather we want to learn how to use the tools that can automate some of the work we may do as an analyst."
   ]
  },
  {
   "cell_type": "markdown",
   "metadata": {
    "slideshow": {
     "slide_type": "fragment"
    }
   },
   "source": [
    "**Step 1** will be to create a few handy functions"
   ]
  },
  {
   "cell_type": "markdown",
   "metadata": {
    "slideshow": {
     "slide_type": "fragment"
    }
   },
   "source": [
    "**Step 2** will be to pull in some live data from an application programming interface (API)"
   ]
  },
  {
   "cell_type": "markdown",
   "metadata": {
    "slideshow": {
     "slide_type": "fragment"
    }
   },
   "source": [
    "**Step 3** will be to scrape data from a website"
   ]
  },
  {
   "cell_type": "markdown",
   "metadata": {
    "slideshow": {
     "slide_type": "fragment"
    }
   },
   "source": [
    "**Step 4** will be to learn how to apply some Python functionality to this data, including the functions we have created and creating some graphs"
   ]
  },
  {
   "cell_type": "markdown",
   "metadata": {
    "slideshow": {
     "slide_type": "fragment"
    }
   },
   "source": [
    "**Step 5** will be to create a pdf file and import a csv file into Python"
   ]
  },
  {
   "cell_type": "markdown",
   "metadata": {
    "slideshow": {
     "slide_type": "slide"
    }
   },
   "source": [
    "# Create some handy functions\n",
    "Here we are going to create some functions that we can call to do some calculations"
   ]
  },
  {
   "cell_type": "code",
   "execution_count": 1,
   "metadata": {
    "slideshow": {
     "slide_type": "subslide"
    }
   },
   "outputs": [],
   "source": [
    "# Function to calculate the P/E ratio of a stock\n",
    "def calculate_pe_ratio(price, earnings):\n",
    "    return price / earnings"
   ]
  },
  {
   "cell_type": "code",
   "execution_count": 2,
   "metadata": {
    "slideshow": {
     "slide_type": "subslide"
    }
   },
   "outputs": [],
   "source": [
    "# Function to calculate the dividend yield of a stock\n",
    "def calculate_dividend_yield(dividend, price):\n",
    "    return dividend / price"
   ]
  },
  {
   "cell_type": "code",
   "execution_count": 3,
   "metadata": {},
   "outputs": [],
   "source": [
    "# Function to calculate the earnings per share of a stock\n",
    "def calculate_eps(net_income, shares_outstanding):\n",
    "    return net_income / shares_outstanding"
   ]
  },
  {
   "cell_type": "code",
   "execution_count": 4,
   "metadata": {},
   "outputs": [],
   "source": [
    "# Function to calculate ROA of a stock\n",
    "def calculate_roa(net_income, total_assets):\n",
    "    return net_income / total_assets"
   ]
  },
  {
   "cell_type": "markdown",
   "metadata": {},
   "source": [
    "# Application Programming Interfaces (APIs)"
   ]
  },
  {
   "cell_type": "markdown",
   "metadata": {},
   "source": [
    "### Introducing APIs\n",
    " - An Application Programming Interface (API) is the means by which a computer program can interact with a service over the internet. \n",
    "\n",
    " ![Slide Image](images/API%20Diagram.jpg)\n",
    " "
   ]
  },
  {
   "cell_type": "markdown",
   "metadata": {},
   "source": [
    "### Why use APIs?\n",
    "\n",
    "- While we can use the browser (User Interface) in the simplest instance, implementing APIs into our program has many benefits:\n",
    "  - **Streamlining:** Sourcing data from websites, downloading the data in .csv format, and reading into our model requires a great deal of human labour (time costly and susceptible to human error). Accessing the data through an API directly is a much more streamline process.\n",
    "  - **Replicability:** If we write the API calls into our program dynamically, the model can update with new data in a single click. The source of this data is always known.\n",
    "  - **Customisability:** The data inputs can be altered to suit updated needs"
   ]
  },
  {
   "cell_type": "markdown",
   "metadata": {},
   "source": [
    "### Requests Python Library\n",
    "\n",
    "- “Requests” is a python library that enables interaction with REST APIs\n",
    "- The following are the main commands (“methods”) that are issued to a REST API:\n",
    "  - GET\n",
    "  - POST\n",
    "  - PUT\n",
    "  - DELETE\n",
    "- GET is the method we are going to be interested in since it enables us to retrieve data from a service\n",
    "- To install requests into your python environment, type the following at the terminal\n",
    "\n",
    "  - pip install requests\n",
    "\n",
    "![Slide Image](images/Requests.jpg)"
   ]
  },
  {
   "cell_type": "markdown",
   "metadata": {},
   "source": [
    "### Examples of APIs"
   ]
  },
  {
   "cell_type": "markdown",
   "metadata": {},
   "source": [
    "#### Weather API\n",
    "Open Meteo is a free and open-source weather data API that provides access to real-time and historical weather data for locations around the world. It offers a range of weather data, including temperature, humidity, wind speed, and precipitation. This code uses a user input for latitude and longitude and uses a GET request to retrieve the weather data."
   ]
  },
  {
   "cell_type": "code",
   "execution_count": null,
   "metadata": {},
   "outputs": [],
   "source": [
    "# First we will download all required packages\n",
    "# %pip is a Jupyter magic command that allows us to run pip commands in a Jupyter notebook\n",
    "# We will use it to install the required packages from the requirements.txt file\n",
    "\n",
    "%pip install -r requirements.txt"
   ]
  },
  {
   "cell_type": "code",
   "execution_count": 5,
   "metadata": {},
   "outputs": [
    {
     "name": "stdout",
     "output_type": "stream",
     "text": [
      "Weather information at -33.891228,151.19585\n"
     ]
    },
    {
     "data": {
      "text/html": [
       "<div>\n",
       "<style scoped>\n",
       "    .dataframe tbody tr th:only-of-type {\n",
       "        vertical-align: middle;\n",
       "    }\n",
       "\n",
       "    .dataframe tbody tr th {\n",
       "        vertical-align: top;\n",
       "    }\n",
       "\n",
       "    .dataframe thead th {\n",
       "        text-align: right;\n",
       "    }\n",
       "</style>\n",
       "<table border=\"1\" class=\"dataframe\">\n",
       "  <thead>\n",
       "    <tr style=\"text-align: right;\">\n",
       "      <th></th>\n",
       "      <th>values</th>\n",
       "    </tr>\n",
       "  </thead>\n",
       "  <tbody>\n",
       "    <tr>\n",
       "      <th>time</th>\n",
       "      <td>2025-02-20T08:00</td>\n",
       "    </tr>\n",
       "    <tr>\n",
       "      <th>interval</th>\n",
       "      <td>900</td>\n",
       "    </tr>\n",
       "    <tr>\n",
       "      <th>temperature</th>\n",
       "      <td>20.6</td>\n",
       "    </tr>\n",
       "    <tr>\n",
       "      <th>windspeed</th>\n",
       "      <td>18.1</td>\n",
       "    </tr>\n",
       "    <tr>\n",
       "      <th>winddirection</th>\n",
       "      <td>159</td>\n",
       "    </tr>\n",
       "    <tr>\n",
       "      <th>is_day</th>\n",
       "      <td>1</td>\n",
       "    </tr>\n",
       "    <tr>\n",
       "      <th>weathercode</th>\n",
       "      <td>3</td>\n",
       "    </tr>\n",
       "  </tbody>\n",
       "</table>\n",
       "</div>"
      ],
      "text/plain": [
       "                         values\n",
       "time           2025-02-20T08:00\n",
       "interval                    900\n",
       "temperature                20.6\n",
       "windspeed                  18.1\n",
       "winddirection               159\n",
       "is_day                        1\n",
       "weathercode                   3"
      ]
     },
     "execution_count": 5,
     "metadata": {},
     "output_type": "execute_result"
    }
   ],
   "source": [
    "import requests\n",
    "import pandas as pd\n",
    "\n",
    "# Ask user for latitude and longitude (e.g., Sydney is -33.891228, 151.19585)\n",
    "latitude = input(\"Enter latitude: \")\n",
    "longitude = input(\"Enter longitude: \")\n",
    "\n",
    "# We construct a URL that is specific to the latitude and longitude the user inputted.\n",
    "url = f'https://api.open-meteo.com/v1/forecast?latitude={latitude}&longitude={longitude}&current_weather=true&hourly=temperature_2m,relativehumidity_2m,windspeed_10m'\n",
    "response = requests.get(url)    # We can then query this URL using a GET request\n",
    "data = response.json()          # Format the response to json\n",
    "\n",
    "current_weather = data['current_weather']\n",
    "print(f'Weather information at {latitude},{longitude}')\n",
    "pd.DataFrame.from_dict(current_weather, orient='index', columns=['values'])"
   ]
  },
  {
   "cell_type": "markdown",
   "metadata": {},
   "source": [
    "#### Joke of the Day API\n",
    "The \"Official Joke API\" is a free, public REST API that provides random jokes in JSON format. You can use it to retrieve jokes programmatically."
   ]
  },
  {
   "cell_type": "code",
   "execution_count": null,
   "metadata": {},
   "outputs": [
    {
     "name": "stdout",
     "output_type": "stream",
     "text": [
      "How do the trees get on the internet? \n",
      "They log on.\n"
     ]
    }
   ],
   "source": [
    "url = \"https://official-joke-api.appspot.com/random_joke\"\n",
    "response = requests.get(url)\n",
    "\n",
    "joke = response.json()\n",
    "print(f\"{joke['setup']} \\n{joke['punchline']}\")"
   ]
  },
  {
   "cell_type": "markdown",
   "metadata": {},
   "source": [
    "### yfinance API\n",
    "yfinance is a Python library that allows you to download financial data from Yahoo Finance. It provides a simple and convenient way to access historical stock prices, dividend data, and other financial data for publicly traded companies. With yfinance, you can easily download data for multiple stocks at once and perform analysis on the data using popular Python libraries like Pandas and Matplotlib."
   ]
  },
  {
   "cell_type": "markdown",
   "metadata": {},
   "source": [
    "We will start by using our previously defined functions to produce some ratios and indicators for the stock."
   ]
  },
  {
   "cell_type": "code",
   "execution_count": 12,
   "metadata": {},
   "outputs": [
    {
     "name": "stdout",
     "output_type": "stream",
     "text": [
      "Chosen Stock: BHP.AX \n",
      "Last Share Price: 40.80 \n",
      "PE Ratio: 26.20 \n",
      "Dividend Yield: 2.72% \n",
      "EPS: 1.56 \n",
      "ROA: 7.76%\n"
     ]
    }
   ],
   "source": [
    "import yfinance as yf\n",
    "\n",
    "# Take user input for ticker\n",
    "TICKER = input('Enter a stock ticker (e.g. BHP.AX): ').upper()\n",
    "\n",
    "try:\n",
    "    # Get stock information\n",
    "    stock = yf.Ticker(TICKER)\n",
    "    stock_prices = stock.history(period=\"10y\")\n",
    "    stock_info = stock.info\n",
    "    stock_financials = stock.financials\n",
    "    stock_balance_sheet = stock.balance_sheet\n",
    "\n",
    "    # Extract relevant information\n",
    "    last_price = stock_prices['Close'].iloc[-1]\n",
    "    earnings = stock_financials.loc[\"Net Income\"].iloc[0]\n",
    "    dividend = stock_info['lastDividendValue']\n",
    "    shares_outstanding = stock_info['sharesOutstanding']\n",
    "    total_assets = (stock_balance_sheet.loc[\"Total Assets\"].iloc[0] + stock_balance_sheet.loc[\"Total Assets\"].iloc[1]) / 2\n",
    "\n",
    "    dividend_yield = calculate_dividend_yield(dividend, last_price) * 100\n",
    "    eps = calculate_eps(earnings, shares_outstanding)\n",
    "    pe_ratio = calculate_pe_ratio(last_price, eps)\n",
    "    roa = calculate_roa(earnings, total_assets) * 100\n",
    "\n",
    "except Exception as e:\n",
    "    print(f\"Error: {e}\")\n",
    "\n",
    "print(f\"Chosen Stock: {TICKER} \\nLast Share Price: {last_price:.2f} \\nPE Ratio: {pe_ratio:.2f} \\nDividend Yield: {dividend_yield:.2f}% \\nEPS: {eps:.2f} \\nROA: {roa:.2f}%\")\n"
   ]
  },
  {
   "cell_type": "markdown",
   "metadata": {},
   "source": [
    "We can convert this code into a function which will allow us to run it on any stock."
   ]
  },
  {
   "cell_type": "code",
   "execution_count": 19,
   "metadata": {},
   "outputs": [],
   "source": [
    "def calculate_ratios(ticker):\n",
    "    import yfinance as yf\n",
    "    stock_prices = pd.DataFrame()\n",
    "    stock_info = {}\n",
    "    stock_financials = pd.DataFrame()\n",
    "    stock_balance_sheet = pd.DataFrame()\n",
    "    try:\n",
    "        # Get stock information\n",
    "        stock = yf.Ticker(ticker)\n",
    "        stock_prices = stock.history(period=\"10y\")\n",
    "        stock_info = stock.info\n",
    "        stock_financials = stock.financials\n",
    "        stock_balance_sheet = stock.balance_sheet\n",
    "\n",
    "        # Extract relevant information\n",
    "        if not stock_prices.empty():\n",
    "            last_price = stock_prices['Close'].iloc[-1]\n",
    "        if \"Net Income\" in stock_financials.columns():\n",
    "            earnings = stock_financials.loc[\"Net Income\"].iloc[0]\n",
    "        if \"lastDividendValue\" in stock_info.keys():\n",
    "            dividend = stock_info['lastDividendValue']\n",
    "        if \"sharesOutstanding\" in stock_info.keys():\n",
    "            shares_outstanding = stock_info['sharesOutstanding']\n",
    "        if \"Total Assets\" in stock_balance_sheet.index():\n",
    "            total_assets = (stock_balance_sheet.loc[\"Total Assets\"].iloc[0] + stock_balance_sheet.loc[\"Total Assets\"].iloc[1]) / 2\n",
    "        \n",
    "        print(f\"Chosen Stock: {TICKER}\")\n",
    "        if last_price:\n",
    "            print(f\"Last Share Price: {last_price:.2f}\")\n",
    "            if dividend:\n",
    "                dividend_yield = calculate_dividend_yield(dividend, last_price) * 100\n",
    "                print(f\"Dividend Yield: {dividend_yield:.2f}%\")\n",
    "        if earnings and shares_outstanding:\n",
    "            eps = calculate_eps(earnings, shares_outstanding)\n",
    "            print(f\"EPS: {eps:.2f}\")\n",
    "            if last_price:\n",
    "                pe_ratio = calculate_pe_ratio(last_price, eps)\n",
    "                print(f\"PE Ratio: {pe_ratio:.2f}\")\n",
    "        if earnings and total_assets:\n",
    "            roa = calculate_roa(earnings, total_assets) * 100\n",
    "            print(f\"ROA: {roa:.2f}%\")\n",
    "\n",
    "    except Exception as e:\n",
    "        print(f\"Error: {e}\")\n"
   ]
  },
  {
   "cell_type": "markdown",
   "metadata": {},
   "source": [
    "Now we will use the matplotlib package to graph the share price of our chosen stock."
   ]
  },
  {
   "cell_type": "code",
   "execution_count": 13,
   "metadata": {},
   "outputs": [
    {
     "data": {
      "image/png": "[encoded data removed]",
      "text/plain": [
       "<Figure size 1000x500 with 1 Axes>"
      ]
     },
     "metadata": {},
     "output_type": "display_data"
    }
   ],
   "source": [
    "import matplotlib.pyplot as plt\n",
    "\n",
    "# Plot the stock prices\n",
    "plt.figure(figsize=(10, 5))\n",
    "plt.plot(stock_prices['Close'])\n",
    "plt.title(f\"{TICKER} Stock Prices\")\n",
    "plt.xlabel(\"Date\")\n",
    "plt.ylabel(\"Price\")\n",
    "plt.show()"
   ]
  },
  {
   "cell_type": "markdown",
   "metadata": {},
   "source": [
    "## Pandas read_html() function\n",
    "\n",
    "Pandas provides a `read_html()` function that allows you to extract tables from HTML web pages and convert them into Pandas DataFrames. This function is particularly useful for web scraping tasks where you need to extract data from HTML tables on a web page. The `read_html()` function can automatically detect and parse HTML tables from a web page and return them as a list of DataFrames. You can then manipulate the DataFrames using Pandas to perform further analysis or export the data to other formats."
   ]
  },
  {
   "cell_type": "code",
   "execution_count": 12,
   "metadata": {},
   "outputs": [
    {
     "data": {
      "text/plain": [
       "0          a2 Milk Company\n",
       "1                    Adbri\n",
       "2    Abacus Property Group\n",
       "3               AGL Energy\n",
       "4         Auckland Airport\n",
       "Name: Company, dtype: object"
      ]
     },
     "execution_count": 12,
     "metadata": {},
     "output_type": "execute_result"
    }
   ],
   "source": [
    "# use the read_html() function from pandas to scrape some data from a website that is relevant to the stock\n",
    "\n",
    "# We will use read_html() to scrape the constituent stocks of the ASX200 index from Wikipedia\n",
    "asx200 = \"https://en.wikipedia.org/wiki/S%26P/ASX_200\"\n",
    "data = pd.read_html(asx200)\n",
    "\n",
    "for table in data:\n",
    "    if \"Company\" in table.columns:\n",
    "        asx200_constituents = table\n",
    "        break\n",
    "\n",
    "asx200_constituents = asx200_constituents[\"Company\"]\n",
    "asx200_constituents.head()"
   ]
  },
  {
   "cell_type": "code",
   "execution_count": null,
   "metadata": {},
   "outputs": [
    {
     "data": {
      "application/vnd.jupyter.widget-view+json": {
       "model_id": "66c30e89341145feb0e7b7fb689bb094",
       "version_major": 2,
       "version_minor": 0
      },
      "text/plain": [
       "Text(value='', description='Stock code:', placeholder='Stock code')"
      ]
     },
     "metadata": {},
     "output_type": "display_data"
    },
    {
     "data": {
      "application/vnd.jupyter.widget-view+json": {
       "model_id": "88cc519900ea472fa9815ab177e40529",
       "version_major": 2,
       "version_minor": 0
      },
      "text/plain": [
       "Button(description='Submit', icon='check', style=ButtonStyle(), tooltip='Click me')"
      ]
     },
     "metadata": {},
     "output_type": "display_data"
    },
    {
     "data": {
      "application/vnd.jupyter.widget-view+json": {
       "model_id": "c0d576d0fc3d41dcae3b7b004d09db27",
       "version_major": 2,
       "version_minor": 0
      },
      "text/plain": [
       "Output()"
      ]
     },
     "metadata": {},
     "output_type": "display_data"
    }
   ],
   "source": [
    "import ipywidgets as widgets\n",
    "from IPython.display import display\n",
    "\n",
    "# Create a text input widget\n",
    "stock_code_input = widgets.Text(\n",
    "    value='',\n",
    "    placeholder='Stock code',\n",
    "    description='Stock code:',\n",
    "    disabled=False\n",
    ")\n",
    "\n",
    "# Create a button widget\n",
    "submit_button = widgets.Button(\n",
    "    description='Submit',\n",
    "    disabled=False,\n",
    "    button_style='', # 'success', 'info', 'warning', 'danger' or ''\n",
    "    tooltip='Click me',\n",
    "    icon='check'\n",
    ")\n",
    "\n",
    "# Create an output widget\n",
    "output = widgets.Output()\n",
    "\n",
    "# Define the function to handle button click\n",
    "def on_button_click(b):\n",
    "    with output:\n",
    "        output.clear_output()\n",
    "        stock_code = stock_code_input.value\n",
    "        print(f'Entered Stock Code: {stock_code}')\n",
    "\n",
    "        calculate_ratios(stock_code_input.value)\n",
    "\n",
    "# Attach the function to the button click event\n",
    "submit_button.on_click(on_button_click)\n",
    "\n",
    "# Display the widgets\n",
    "display(stock_code_input, submit_button, output)"
   ]
  },
  {
   "cell_type": "code",
   "execution_count": null,
   "metadata": {},
   "outputs": [],
   "source": [
    "# code to read commentary from a text file into a string for later inclusion in the analyst report\n",
    "# also read from a csv file into a pandas dataframe (using pandas.read_csv(file_path)) for later inclusion in the analyst report"
   ]
  },
  {
   "cell_type": "code",
   "execution_count": null,
   "metadata": {},
   "outputs": [],
   "source": [
    "# show the students how to create a pdf file\n",
    "\n",
    "from fpdf import FPDF\n",
    "\n",
    "# Create instance of FPDF class\n",
    "pdf = FPDF()\n",
    "\n",
    "# Add a page\n",
    "pdf.add_page()\n",
    "\n",
    "# Set font\n",
    "pdf.set_font(\"Arial\", size=12)\n",
    "\n",
    "# Add a cell\n",
    "pdf.cell(200, 10, txt=\"Welcome to Python PDF creation!\", ln=True, align='C')\n",
    "\n",
    "# Save the PDF with name .pdf\n",
    "pdf.output(\"simple_demo.pdf\")\n",
    "\n",
    "print(\"PDF created successfully!\")"
   ]
  },
  {
   "cell_type": "code",
   "execution_count": 17,
   "metadata": {},
   "outputs": [
    {
     "name": "stdout",
     "output_type": "stream",
     "text": [
      "              Year         2025         2026         2027         2028  \\\n",
      "0         Cashflow  2208.234503  8409.837696  3066.882847  2526.980787   \n",
      "1  Discount factor     0.952381     0.907029     0.863838     0.822702   \n",
      "\n",
      "          2029         2030         2031         2032        2033  \\\n",
      "0  5670.492956  6511.520390  3202.663033  1241.044536  718.228398   \n",
      "1     0.783526     0.746215     0.710681     0.676839    0.644609   \n",
      "\n",
      "          2034         2035  \n",
      "0  4387.708928  7484.910830  \n",
      "1     0.613913     0.584679  \n"
     ]
    }
   ],
   "source": [
    "# get DCF output from an excel file\n",
    "\n",
    "import pandas as pd\n",
    "\n",
    "# Read the excel file\n",
    "df = pd.read_excel('DCF_test.xlsx', sheet_name=\"Sheet1\", usecols='A:L', skiprows=0, nrows=3)\n",
    "\n",
    "print (df)"
   ]
  }
 ],
 "metadata": {
  "kernelspec": {
   "display_name": ".venv",
   "language": "python",
   "name": "python3"
  },
  "language_info": {
   "codemirror_mode": {
    "name": "ipython",
    "version": 3
   },
   "file_extension": ".py",
   "mimetype": "text/x-python",
   "name": "python",
   "nbconvert_exporter": "python",
   "pygments_lexer": "ipython3",
   "version": "3.11.0"
  }
 },
 "nbformat": 4,
 "nbformat_minor": 2
}
